{
 "cells": [
  {
   "cell_type": "code",
   "execution_count": 35,
   "id": "65f9fff4",
   "metadata": {},
   "outputs": [],
   "source": [
    "import pandas as pd\n",
    "import numpy as np\n",
    "import seaborn as  sns\n",
    "import matplotlib.pyplot as plt"
   ]
  },
  {
   "cell_type": "code",
   "execution_count": 36,
   "id": "6d1f8806",
   "metadata": {},
   "outputs": [
    {
     "name": "stderr",
     "output_type": "stream",
     "text": [
      "C:\\ProgramData\\Anaconda3\\lib\\site-packages\\pandas\\util\\_decorators.py:311: ParserWarning: Length of header or names does not match length of data. This leads to a loss of data with index_col=False.\n",
      "  return func(*args, **kwargs)\n"
     ]
    }
   ],
   "source": [
    "\n",
    "columns = ['job_title','Company', 'working_place','website', 'posted_time', 'working_type', 'job_description']\n",
    "data = pd.read_csv('job_list.csv', names=columns, index_col=False)\n",
    "\n",
    "#parsing job_descriptions.\n",
    "\n",
    "data['big_data'] = data['job_description'].apply(lambda x: 1 if 'big data' in x.lower() else 0)\n",
    "data['analysis'] = data['job_description'].apply(lambda x: 1 if 'analysis' in x.lower() else 0)\n",
    "data['data_visualization'] = data['job_description'].apply(lambda x: 1 if 'visualization' in x.lower() else 0)\n",
    "data['Hadoop'] = data['job_description'].apply(lambda x: 1 if 'hadoop' in x.lower() else 0)\n",
    "data['Database'] = data['job_description'].apply(lambda x: 1 if 'database' in x.lower() else 0)\n",
    "data['Apache'] = data['job_description'].apply(lambda x: 1 if 'spark' in x.lower() else 0)\n",
    "#data['r_studio'] = data['job_description'].apply(lambda x: 1 if 'r-studio' in x.lower() else 0)\n",
    "#parsing the posted_time"
   ]
  },
  {
   "cell_type": "code",
   "execution_count": 37,
   "id": "55508fe8",
   "metadata": {},
   "outputs": [],
   "source": [
    "df = pd.read_csv('jobs_data_cleaned.csv')"
   ]
  },
  {
   "cell_type": "code",
   "execution_count": 39,
   "id": "45cef992",
   "metadata": {
    "scrolled": true
   },
   "outputs": [
    {
     "data": {
      "text/html": [
       "<div>\n",
       "<style scoped>\n",
       "    .dataframe tbody tr th:only-of-type {\n",
       "        vertical-align: middle;\n",
       "    }\n",
       "\n",
       "    .dataframe tbody tr th {\n",
       "        vertical-align: top;\n",
       "    }\n",
       "\n",
       "    .dataframe thead th {\n",
       "        text-align: right;\n",
       "    }\n",
       "</style>\n",
       "<table border=\"1\" class=\"dataframe\">\n",
       "  <thead>\n",
       "    <tr style=\"text-align: right;\">\n",
       "      <th></th>\n",
       "      <th>job_title</th>\n",
       "      <th>Company</th>\n",
       "      <th>working_place</th>\n",
       "      <th>website</th>\n",
       "      <th>posted_time</th>\n",
       "      <th>working_type</th>\n",
       "      <th>job_description</th>\n",
       "      <th>big_data</th>\n",
       "      <th>analysis</th>\n",
       "      <th>data_visualization</th>\n",
       "      <th>Hadoop</th>\n",
       "      <th>Database</th>\n",
       "      <th>Apache</th>\n",
       "    </tr>\n",
       "  </thead>\n",
       "  <tbody>\n",
       "    <tr>\n",
       "      <th>0</th>\n",
       "      <td>Data Scientist</td>\n",
       "      <td>RED CIRCLE</td>\n",
       "      <td>Rwanda</td>\n",
       "      <td>Rwandajob.com</td>\n",
       "      <td>26 days ago</td>\n",
       "      <td>Full–time</td>\n",
       "      <td>We are looking for profiles and CVs of Data Sc...</td>\n",
       "      <td>1</td>\n",
       "      <td>1</td>\n",
       "      <td>0</td>\n",
       "      <td>0</td>\n",
       "      <td>0</td>\n",
       "      <td>0</td>\n",
       "    </tr>\n",
       "    <tr>\n",
       "      <th>1</th>\n",
       "      <td>Senior Product Analyst</td>\n",
       "      <td>GitLab</td>\n",
       "      <td>Kigali</td>\n",
       "      <td>LinkedIn</td>\n",
       "      <td>26 days ago</td>\n",
       "      <td>Full–time</td>\n",
       "      <td>GitLab's DevOps platform empowers 100,000+ org...</td>\n",
       "      <td>0</td>\n",
       "      <td>1</td>\n",
       "      <td>0</td>\n",
       "      <td>0</td>\n",
       "      <td>0</td>\n",
       "      <td>0</td>\n",
       "    </tr>\n",
       "    <tr>\n",
       "      <th>2</th>\n",
       "      <td>Business Intelligence Analyst</td>\n",
       "      <td>RED CIRCLE</td>\n",
       "      <td>Rwanda</td>\n",
       "      <td>Rwandajob.com</td>\n",
       "      <td>Over 1 month ago</td>\n",
       "      <td>Full–time</td>\n",
       "      <td>We are looking for profiles and CVs of Busines...</td>\n",
       "      <td>0</td>\n",
       "      <td>0</td>\n",
       "      <td>0</td>\n",
       "      <td>0</td>\n",
       "      <td>0</td>\n",
       "      <td>0</td>\n",
       "    </tr>\n",
       "    <tr>\n",
       "      <th>3</th>\n",
       "      <td>Data Analyst (Maternity Cover)</td>\n",
       "      <td>Babylon</td>\n",
       "      <td>Kigali</td>\n",
       "      <td>ParallelDesk</td>\n",
       "      <td>Over 1 month ago</td>\n",
       "      <td>Full–time</td>\n",
       "      <td>Babyl is Rwanda’s first full-service mobile he...</td>\n",
       "      <td>0</td>\n",
       "      <td>0</td>\n",
       "      <td>0</td>\n",
       "      <td>0</td>\n",
       "      <td>0</td>\n",
       "      <td>0</td>\n",
       "    </tr>\n",
       "    <tr>\n",
       "      <th>4</th>\n",
       "      <td>Senior Analyst, Online Sales &amp; Self Service Data</td>\n",
       "      <td>GitLab</td>\n",
       "      <td>Kigali</td>\n",
       "      <td>LinkedIn</td>\n",
       "      <td>13 days ago</td>\n",
       "      <td>Full–time</td>\n",
       "      <td>GitLab's DevOps platform empowers 100,000+ org...</td>\n",
       "      <td>0</td>\n",
       "      <td>0</td>\n",
       "      <td>0</td>\n",
       "      <td>0</td>\n",
       "      <td>0</td>\n",
       "      <td>0</td>\n",
       "    </tr>\n",
       "  </tbody>\n",
       "</table>\n",
       "</div>"
      ],
      "text/plain": [
       "                                          job_title     Company working_place  \\\n",
       "0                                    Data Scientist  RED CIRCLE        Rwanda   \n",
       "1                            Senior Product Analyst      GitLab        Kigali   \n",
       "2                     Business Intelligence Analyst  RED CIRCLE        Rwanda   \n",
       "3                    Data Analyst (Maternity Cover)     Babylon        Kigali   \n",
       "4  Senior Analyst, Online Sales & Self Service Data      GitLab        Kigali   \n",
       "\n",
       "         website       posted_time working_type  \\\n",
       "0  Rwandajob.com       26 days ago    Full–time   \n",
       "1       LinkedIn       26 days ago    Full–time   \n",
       "2  Rwandajob.com  Over 1 month ago    Full–time   \n",
       "3   ParallelDesk  Over 1 month ago    Full–time   \n",
       "4       LinkedIn       13 days ago    Full–time   \n",
       "\n",
       "                                     job_description  big_data  analysis  \\\n",
       "0  We are looking for profiles and CVs of Data Sc...         1         1   \n",
       "1  GitLab's DevOps platform empowers 100,000+ org...         0         1   \n",
       "2  We are looking for profiles and CVs of Busines...         0         0   \n",
       "3  Babyl is Rwanda’s first full-service mobile he...         0         0   \n",
       "4  GitLab's DevOps platform empowers 100,000+ org...         0         0   \n",
       "\n",
       "   data_visualization  Hadoop  Database  Apache  \n",
       "0                   0       0         0       0  \n",
       "1                   0       0         0       0  \n",
       "2                   0       0         0       0  \n",
       "3                   0       0         0       0  \n",
       "4                   0       0         0       0  "
      ]
     },
     "execution_count": 39,
     "metadata": {},
     "output_type": "execute_result"
    }
   ],
   "source": [
    "df.head()"
   ]
  },
  {
   "cell_type": "code",
   "execution_count": 40,
   "id": "b33d15e1",
   "metadata": {},
   "outputs": [
    {
     "data": {
      "text/plain": [
       "Index(['job_title', 'Company', 'working_place', 'website', 'posted_time',\n",
       "       'working_type', 'job_description', 'big_data', 'analysis',\n",
       "       'data_visualization', 'Hadoop', 'Database', 'Apache'],\n",
       "      dtype='object')"
      ]
     },
     "execution_count": 40,
     "metadata": {},
     "output_type": "execute_result"
    }
   ],
   "source": [
    "df.columns"
   ]
  },
  {
   "cell_type": "code",
   "execution_count": 41,
   "id": "7a7cf22f",
   "metadata": {},
   "outputs": [],
   "source": [
    "corr = df[['big_data', 'analysis',\n",
    "       'data_visualization', 'Hadoop', 'Database', 'Apache']].corr()"
   ]
  },
  {
   "cell_type": "code",
   "execution_count": 42,
   "id": "533cc690",
   "metadata": {
    "scrolled": true
   },
   "outputs": [
    {
     "data": {
      "text/plain": [
       "<AxesSubplot:>"
      ]
     },
     "execution_count": 42,
     "metadata": {},
     "output_type": "execute_result"
    },
    {
     "data": {
      "image/png": "[encoded data removed]",
      "text/plain": [
       "<Figure size 432x288 with 2 Axes>"
      ]
     },
     "metadata": {
      "needs_background": "light"
     },
     "output_type": "display_data"
    }
   ],
   "source": [
    "# Generate a custom diverging colormap\n",
    "cmap = sns.diverging_palette(230, 20, as_cmap=True)\n",
    "\n",
    "# Draw the heatmap with the mask and correct aspect ratio\n",
    "sns.heatmap(corr,cmap=cmap, vmax=.3, center=0,\n",
    "            square=True, linewidths=.5, cbar_kws={\"shrink\": .5})"
   ]
  },
  {
   "cell_type": "code",
   "execution_count": 43,
   "id": "4fc5b52b",
   "metadata": {},
   "outputs": [],
   "source": [
    "def title_simplifier(title):\n",
    "    if 'data scientist' in title.lower():\n",
    "        return 'data scientist'\n",
    "    elif 'product analyst' in title.lower():\n",
    "        return 'product analyst'\n",
    "    elif 'data analyst' in title.lower():\n",
    "        return 'data analyst'\n",
    "    elif 'business analyst' in title.lower():\n",
    "        return 'business anlyst'\n",
    "    elif 'data specialist' in title.lower():\n",
    "        return 'data specialist'\n",
    "    elif 'big data engineer' in title.lower():\n",
    "        return 'data engineer'\n",
    "    elif 'big data engineer' in title.lower():\n",
    "        return 'data engineer'\n",
    "\n",
    "    else:\n",
    "        return 'na'\n",
    "    \n",
    "def seniority(title):\n",
    "    if 'sr' in title.lower() or 'senior' in title.lower() or 'sr' in title.lower() or 'lead' in title.lower() or 'principal' in title.lower():\n",
    "            return 'senior'\n",
    "    elif 'jr' in title.lower() or 'jr.' in title.lower():\n",
    "        return 'jr'\n",
    "    else:\n",
    "        return 'na'\n",
    "\t\t"
   ]
  },
  {
   "cell_type": "code",
   "execution_count": 44,
   "id": "641a4b45",
   "metadata": {},
   "outputs": [
    {
     "data": {
      "text/plain": [
       "Index(['job_title', 'Company', 'working_place', 'website', 'posted_time',\n",
       "       'working_type', 'job_description', 'big_data', 'analysis',\n",
       "       'data_visualization', 'Hadoop', 'Database', 'Apache'],\n",
       "      dtype='object')"
      ]
     },
     "execution_count": 44,
     "metadata": {},
     "output_type": "execute_result"
    }
   ],
   "source": [
    "df.columns"
   ]
  },
  {
   "cell_type": "code",
   "execution_count": 45,
   "id": "90546fe6",
   "metadata": {},
   "outputs": [
    {
     "data": {
      "text/plain": [
       "na                 6\n",
       "data specialist    4\n",
       "data engineer      2\n",
       "data scientist     1\n",
       "product analyst    1\n",
       "data analyst       1\n",
       "business anlyst    1\n",
       "Name: simple_job_title, dtype: int64"
      ]
     },
     "execution_count": 45,
     "metadata": {},
     "output_type": "execute_result"
    }
   ],
   "source": [
    "#Job title\n",
    "df['simple_job_title'] = df['job_title'].apply(title_simplifier)\n",
    "df.simple_job_title.value_counts()"
   ]
  },
  {
   "cell_type": "code",
   "execution_count": 52,
   "id": "3dca11bd",
   "metadata": {
    "scrolled": true
   },
   "outputs": [
    {
     "data": {
      "text/plain": [
       "na        13\n",
       "senior     3\n",
       "Name: job_level, dtype: int64"
      ]
     },
     "execution_count": 52,
     "metadata": {},
     "output_type": "execute_result"
    }
   ],
   "source": [
    "df['job_level'] = df['job_title'].apply(seniority)\n",
    "df.job_level.value_counts()"
   ]
  },
  {
   "cell_type": "code",
   "execution_count": 53,
   "id": "5080dfa6",
   "metadata": {},
   "outputs": [],
   "source": [
    "df_cat = df[['simple_job_title', 'job_level', 'Company', 'working_place', 'website', 'posted_time','big_data', 'analysis',\n",
    "       'data_visualization', 'Hadoop', 'Database', 'Apache']]"
   ]
  },
  {
   "cell_type": "code",
   "execution_count": 48,
   "id": "ce624ffb",
   "metadata": {},
   "outputs": [
    {
     "data": {
      "text/html": [
       "<div>\n",
       "<style scoped>\n",
       "    .dataframe tbody tr th:only-of-type {\n",
       "        vertical-align: middle;\n",
       "    }\n",
       "\n",
       "    .dataframe tbody tr th {\n",
       "        vertical-align: top;\n",
       "    }\n",
       "\n",
       "    .dataframe thead th {\n",
       "        text-align: right;\n",
       "    }\n",
       "</style>\n",
       "<table border=\"1\" class=\"dataframe\">\n",
       "  <thead>\n",
       "    <tr style=\"text-align: right;\">\n",
       "      <th></th>\n",
       "      <th>job_title</th>\n",
       "      <th>Company</th>\n",
       "      <th>working_place</th>\n",
       "      <th>website</th>\n",
       "      <th>posted_time</th>\n",
       "      <th>working_type</th>\n",
       "      <th>job_description</th>\n",
       "      <th>big_data</th>\n",
       "      <th>analysis</th>\n",
       "      <th>data_visualization</th>\n",
       "      <th>Hadoop</th>\n",
       "      <th>Database</th>\n",
       "      <th>Apache</th>\n",
       "      <th>simple_job_title</th>\n",
       "      <th>job_level</th>\n",
       "    </tr>\n",
       "  </thead>\n",
       "  <tbody>\n",
       "    <tr>\n",
       "      <th>0</th>\n",
       "      <td>Data Scientist</td>\n",
       "      <td>RED CIRCLE</td>\n",
       "      <td>Rwanda</td>\n",
       "      <td>Rwandajob.com</td>\n",
       "      <td>26 days ago</td>\n",
       "      <td>Full–time</td>\n",
       "      <td>We are looking for profiles and CVs of Data Sc...</td>\n",
       "      <td>1</td>\n",
       "      <td>1</td>\n",
       "      <td>0</td>\n",
       "      <td>0</td>\n",
       "      <td>0</td>\n",
       "      <td>0</td>\n",
       "      <td>data scientist</td>\n",
       "      <td>na</td>\n",
       "    </tr>\n",
       "    <tr>\n",
       "      <th>1</th>\n",
       "      <td>Senior Product Analyst</td>\n",
       "      <td>GitLab</td>\n",
       "      <td>Kigali</td>\n",
       "      <td>LinkedIn</td>\n",
       "      <td>26 days ago</td>\n",
       "      <td>Full–time</td>\n",
       "      <td>GitLab's DevOps platform empowers 100,000+ org...</td>\n",
       "      <td>0</td>\n",
       "      <td>1</td>\n",
       "      <td>0</td>\n",
       "      <td>0</td>\n",
       "      <td>0</td>\n",
       "      <td>0</td>\n",
       "      <td>product analyst</td>\n",
       "      <td>senior</td>\n",
       "    </tr>\n",
       "    <tr>\n",
       "      <th>2</th>\n",
       "      <td>Business Intelligence Analyst</td>\n",
       "      <td>RED CIRCLE</td>\n",
       "      <td>Rwanda</td>\n",
       "      <td>Rwandajob.com</td>\n",
       "      <td>Over 1 month ago</td>\n",
       "      <td>Full–time</td>\n",
       "      <td>We are looking for profiles and CVs of Busines...</td>\n",
       "      <td>0</td>\n",
       "      <td>0</td>\n",
       "      <td>0</td>\n",
       "      <td>0</td>\n",
       "      <td>0</td>\n",
       "      <td>0</td>\n",
       "      <td>na</td>\n",
       "      <td>na</td>\n",
       "    </tr>\n",
       "    <tr>\n",
       "      <th>3</th>\n",
       "      <td>Data Analyst (Maternity Cover)</td>\n",
       "      <td>Babylon</td>\n",
       "      <td>Kigali</td>\n",
       "      <td>ParallelDesk</td>\n",
       "      <td>Over 1 month ago</td>\n",
       "      <td>Full–time</td>\n",
       "      <td>Babyl is Rwanda’s first full-service mobile he...</td>\n",
       "      <td>0</td>\n",
       "      <td>0</td>\n",
       "      <td>0</td>\n",
       "      <td>0</td>\n",
       "      <td>0</td>\n",
       "      <td>0</td>\n",
       "      <td>data analyst</td>\n",
       "      <td>na</td>\n",
       "    </tr>\n",
       "    <tr>\n",
       "      <th>4</th>\n",
       "      <td>Senior Analyst, Online Sales &amp; Self Service Data</td>\n",
       "      <td>GitLab</td>\n",
       "      <td>Kigali</td>\n",
       "      <td>LinkedIn</td>\n",
       "      <td>13 days ago</td>\n",
       "      <td>Full–time</td>\n",
       "      <td>GitLab's DevOps platform empowers 100,000+ org...</td>\n",
       "      <td>0</td>\n",
       "      <td>0</td>\n",
       "      <td>0</td>\n",
       "      <td>0</td>\n",
       "      <td>0</td>\n",
       "      <td>0</td>\n",
       "      <td>na</td>\n",
       "      <td>senior</td>\n",
       "    </tr>\n",
       "  </tbody>\n",
       "</table>\n",
       "</div>"
      ],
      "text/plain": [
       "                                          job_title     Company working_place  \\\n",
       "0                                    Data Scientist  RED CIRCLE        Rwanda   \n",
       "1                            Senior Product Analyst      GitLab        Kigali   \n",
       "2                     Business Intelligence Analyst  RED CIRCLE        Rwanda   \n",
       "3                    Data Analyst (Maternity Cover)     Babylon        Kigali   \n",
       "4  Senior Analyst, Online Sales & Self Service Data      GitLab        Kigali   \n",
       "\n",
       "         website       posted_time working_type  \\\n",
       "0  Rwandajob.com       26 days ago    Full–time   \n",
       "1       LinkedIn       26 days ago    Full–time   \n",
       "2  Rwandajob.com  Over 1 month ago    Full–time   \n",
       "3   ParallelDesk  Over 1 month ago    Full–time   \n",
       "4       LinkedIn       13 days ago    Full–time   \n",
       "\n",
       "                                     job_description  big_data  analysis  \\\n",
       "0  We are looking for profiles and CVs of Data Sc...         1         1   \n",
       "1  GitLab's DevOps platform empowers 100,000+ org...         0         1   \n",
       "2  We are looking for profiles and CVs of Busines...         0         0   \n",
       "3  Babyl is Rwanda’s first full-service mobile he...         0         0   \n",
       "4  GitLab's DevOps platform empowers 100,000+ org...         0         0   \n",
       "\n",
       "   data_visualization  Hadoop  Database  Apache simple_job_title job_level  \n",
       "0                   0       0         0       0   data scientist        na  \n",
       "1                   0       0         0       0  product analyst    senior  \n",
       "2                   0       0         0       0               na        na  \n",
       "3                   0       0         0       0     data analyst        na  \n",
       "4                   0       0         0       0               na    senior  "
      ]
     },
     "execution_count": 48,
     "metadata": {},
     "output_type": "execute_result"
    }
   ],
   "source": [
    "df.head()"
   ]
  },
  {
   "cell_type": "code",
   "execution_count": 54,
   "id": "2ceac954",
   "metadata": {},
   "outputs": [
    {
     "name": "stdout",
     "output_type": "stream",
     "text": [
      "the graph for simple_job_title: total = 7\n"
     ]
    },
    {
     "data": {
      "image/png": "[encoded data removed]",
      "text/plain": [
       "<Figure size 432x288 with 1 Axes>"
      ]
     },
     "metadata": {
      "needs_background": "light"
     },
     "output_type": "display_data"
    },
    {
     "name": "stdout",
     "output_type": "stream",
     "text": [
      "the graph for job_level: total = 2\n"
     ]
    },
    {
     "data": {
      "image/png": "[encoded data removed]",
      "text/plain": [
       "<Figure size 432x288 with 1 Axes>"
      ]
     },
     "metadata": {
      "needs_background": "light"
     },
     "output_type": "display_data"
    },
    {
     "name": "stdout",
     "output_type": "stream",
     "text": [
      "the graph for Company: total = 11\n"
     ]
    },
    {
     "data": {
      "image/png": "[encoded data removed]",
      "text/plain": [
       "<Figure size 432x288 with 1 Axes>"
      ]
     },
     "metadata": {
      "needs_background": "light"
     },
     "output_type": "display_data"
    },
    {
     "name": "stdout",
     "output_type": "stream",
     "text": [
      "the graph for working_place: total = 3\n"
     ]
    },
    {
     "data": {
      "image/png": "[encoded data removed]",
      "text/plain": [
       "<Figure size 432x288 with 1 Axes>"
      ]
     },
     "metadata": {
      "needs_background": "light"
     },
     "output_type": "display_data"
    },
    {
     "name": "stdout",
     "output_type": "stream",
     "text": [
      "the graph for website: total = 7\n"
     ]
    },
    {
     "data": {
      "image/png": "[encoded data removed]",
      "text/plain": [
       "<Figure size 432x288 with 1 Axes>"
      ]
     },
     "metadata": {
      "needs_background": "light"
     },
     "output_type": "display_data"
    },
    {
     "name": "stdout",
     "output_type": "stream",
     "text": [
      "the graph for posted_time: total = 7\n"
     ]
    },
    {
     "data": {
      "image/png": "[encoded data removed]",
      "text/plain": [
       "<Figure size 432x288 with 1 Axes>"
      ]
     },
     "metadata": {
      "needs_background": "light"
     },
     "output_type": "display_data"
    },
    {
     "name": "stdout",
     "output_type": "stream",
     "text": [
      "the graph for big_data: total = 2\n"
     ]
    },
    {
     "data": {
      "image/png": "[encoded data removed]",
      "text/plain": [
       "<Figure size 432x288 with 1 Axes>"
      ]
     },
     "metadata": {
      "needs_background": "light"
     },
     "output_type": "display_data"
    },
    {
     "name": "stdout",
     "output_type": "stream",
     "text": [
      "the graph for analysis: total = 2\n"
     ]
    },
    {
     "data": {
      "image/png": "[encoded data removed]",
      "text/plain": [
       "<Figure size 432x288 with 1 Axes>"
      ]
     },
     "metadata": {
      "needs_background": "light"
     },
     "output_type": "display_data"
    },
    {
     "name": "stdout",
     "output_type": "stream",
     "text": [
      "the graph for data_visualization: total = 2\n"
     ]
    },
    {
     "data": {
      "image/png": "[encoded data removed]",
      "text/plain": [
       "<Figure size 432x288 with 1 Axes>"
      ]
     },
     "metadata": {
      "needs_background": "light"
     },
     "output_type": "display_data"
    },
    {
     "name": "stdout",
     "output_type": "stream",
     "text": [
      "the graph for Hadoop: total = 2\n"
     ]
    },
    {
     "data": {
      "image/png": "[encoded data removed]",
      "text/plain": [
       "<Figure size 432x288 with 1 Axes>"
      ]
     },
     "metadata": {
      "needs_background": "light"
     },
     "output_type": "display_data"
    },
    {
     "name": "stdout",
     "output_type": "stream",
     "text": [
      "the graph for Database: total = 2\n"
     ]
    },
    {
     "data": {
      "image/png": "[encoded data removed]",
      "text/plain": [
       "<Figure size 432x288 with 1 Axes>"
      ]
     },
     "metadata": {
      "needs_background": "light"
     },
     "output_type": "display_data"
    },
    {
     "name": "stdout",
     "output_type": "stream",
     "text": [
      "the graph for Apache: total = 2\n"
     ]
    },
    {
     "data": {
      "image/png": "[encoded data removed]",
      "text/plain": [
       "<Figure size 432x288 with 1 Axes>"
      ]
     },
     "metadata": {
      "needs_background": "light"
     },
     "output_type": "display_data"
    }
   ],
   "source": [
    "for i in df_cat:\n",
    "    cat_num = df_cat[i].value_counts()\n",
    "    print('the graph for %s: total = %d' %(i,len(cat_num)))\n",
    "    chart = sns.barplot(x=cat_num.index,y=cat_num)\n",
    "    chart.set_xticklabels(chart.get_xticklabels(), rotation=90)\n",
    "    plt.show()"
   ]
  },
  {
   "cell_type": "code",
   "execution_count": 55,
   "id": "50d2026a",
   "metadata": {},
   "outputs": [],
   "source": [
    "df.to_csv('jobs_final.csv', index=False)"
   ]
  },
  {
   "cell_type": "code",
   "execution_count": 57,
   "id": "39aa6b13",
   "metadata": {},
   "outputs": [
    {
     "data": {
      "text/html": [
       "<div>\n",
       "<style scoped>\n",
       "    .dataframe tbody tr th:only-of-type {\n",
       "        vertical-align: middle;\n",
       "    }\n",
       "\n",
       "    .dataframe tbody tr th {\n",
       "        vertical-align: top;\n",
       "    }\n",
       "\n",
       "    .dataframe thead th {\n",
       "        text-align: right;\n",
       "    }\n",
       "</style>\n",
       "<table border=\"1\" class=\"dataframe\">\n",
       "  <thead>\n",
       "    <tr style=\"text-align: right;\">\n",
       "      <th></th>\n",
       "      <th>job_title</th>\n",
       "      <th>Company</th>\n",
       "      <th>working_place</th>\n",
       "      <th>website</th>\n",
       "      <th>posted_time</th>\n",
       "      <th>working_type</th>\n",
       "      <th>job_description</th>\n",
       "      <th>big_data</th>\n",
       "      <th>analysis</th>\n",
       "      <th>data_visualization</th>\n",
       "      <th>Hadoop</th>\n",
       "      <th>Database</th>\n",
       "      <th>Apache</th>\n",
       "      <th>simple_job_title</th>\n",
       "      <th>job_level</th>\n",
       "    </tr>\n",
       "  </thead>\n",
       "  <tbody>\n",
       "    <tr>\n",
       "      <th>0</th>\n",
       "      <td>Data Scientist</td>\n",
       "      <td>RED CIRCLE</td>\n",
       "      <td>Rwanda</td>\n",
       "      <td>Rwandajob.com</td>\n",
       "      <td>26 days ago</td>\n",
       "      <td>Full–time</td>\n",
       "      <td>We are looking for profiles and CVs of Data Sc...</td>\n",
       "      <td>1</td>\n",
       "      <td>1</td>\n",
       "      <td>0</td>\n",
       "      <td>0</td>\n",
       "      <td>0</td>\n",
       "      <td>0</td>\n",
       "      <td>data scientist</td>\n",
       "      <td>na</td>\n",
       "    </tr>\n",
       "    <tr>\n",
       "      <th>1</th>\n",
       "      <td>Senior Product Analyst</td>\n",
       "      <td>GitLab</td>\n",
       "      <td>Kigali</td>\n",
       "      <td>LinkedIn</td>\n",
       "      <td>26 days ago</td>\n",
       "      <td>Full–time</td>\n",
       "      <td>GitLab's DevOps platform empowers 100,000+ org...</td>\n",
       "      <td>0</td>\n",
       "      <td>1</td>\n",
       "      <td>0</td>\n",
       "      <td>0</td>\n",
       "      <td>0</td>\n",
       "      <td>0</td>\n",
       "      <td>product analyst</td>\n",
       "      <td>senior</td>\n",
       "    </tr>\n",
       "    <tr>\n",
       "      <th>2</th>\n",
       "      <td>Business Intelligence Analyst</td>\n",
       "      <td>RED CIRCLE</td>\n",
       "      <td>Rwanda</td>\n",
       "      <td>Rwandajob.com</td>\n",
       "      <td>Over 1 month ago</td>\n",
       "      <td>Full–time</td>\n",
       "      <td>We are looking for profiles and CVs of Busines...</td>\n",
       "      <td>0</td>\n",
       "      <td>0</td>\n",
       "      <td>0</td>\n",
       "      <td>0</td>\n",
       "      <td>0</td>\n",
       "      <td>0</td>\n",
       "      <td>na</td>\n",
       "      <td>na</td>\n",
       "    </tr>\n",
       "    <tr>\n",
       "      <th>3</th>\n",
       "      <td>Data Analyst (Maternity Cover)</td>\n",
       "      <td>Babylon</td>\n",
       "      <td>Kigali</td>\n",
       "      <td>ParallelDesk</td>\n",
       "      <td>Over 1 month ago</td>\n",
       "      <td>Full–time</td>\n",
       "      <td>Babyl is Rwanda’s first full-service mobile he...</td>\n",
       "      <td>0</td>\n",
       "      <td>0</td>\n",
       "      <td>0</td>\n",
       "      <td>0</td>\n",
       "      <td>0</td>\n",
       "      <td>0</td>\n",
       "      <td>data analyst</td>\n",
       "      <td>na</td>\n",
       "    </tr>\n",
       "    <tr>\n",
       "      <th>4</th>\n",
       "      <td>Senior Analyst, Online Sales &amp; Self Service Data</td>\n",
       "      <td>GitLab</td>\n",
       "      <td>Kigali</td>\n",
       "      <td>LinkedIn</td>\n",
       "      <td>13 days ago</td>\n",
       "      <td>Full–time</td>\n",
       "      <td>GitLab's DevOps platform empowers 100,000+ org...</td>\n",
       "      <td>0</td>\n",
       "      <td>0</td>\n",
       "      <td>0</td>\n",
       "      <td>0</td>\n",
       "      <td>0</td>\n",
       "      <td>0</td>\n",
       "      <td>na</td>\n",
       "      <td>senior</td>\n",
       "    </tr>\n",
       "  </tbody>\n",
       "</table>\n",
       "</div>"
      ],
      "text/plain": [
       "                                          job_title     Company working_place  \\\n",
       "0                                    Data Scientist  RED CIRCLE        Rwanda   \n",
       "1                            Senior Product Analyst      GitLab        Kigali   \n",
       "2                     Business Intelligence Analyst  RED CIRCLE        Rwanda   \n",
       "3                    Data Analyst (Maternity Cover)     Babylon        Kigali   \n",
       "4  Senior Analyst, Online Sales & Self Service Data      GitLab        Kigali   \n",
       "\n",
       "         website       posted_time working_type  \\\n",
       "0  Rwandajob.com       26 days ago    Full–time   \n",
       "1       LinkedIn       26 days ago    Full–time   \n",
       "2  Rwandajob.com  Over 1 month ago    Full–time   \n",
       "3   ParallelDesk  Over 1 month ago    Full–time   \n",
       "4       LinkedIn       13 days ago    Full–time   \n",
       "\n",
       "                                     job_description  big_data  analysis  \\\n",
       "0  We are looking for profiles and CVs of Data Sc...         1         1   \n",
       "1  GitLab's DevOps platform empowers 100,000+ org...         0         1   \n",
       "2  We are looking for profiles and CVs of Busines...         0         0   \n",
       "3  Babyl is Rwanda’s first full-service mobile he...         0         0   \n",
       "4  GitLab's DevOps platform empowers 100,000+ org...         0         0   \n",
       "\n",
       "   data_visualization  Hadoop  Database  Apache simple_job_title job_level  \n",
       "0                   0       0         0       0   data scientist        na  \n",
       "1                   0       0         0       0  product analyst    senior  \n",
       "2                   0       0         0       0               na        na  \n",
       "3                   0       0         0       0     data analyst        na  \n",
       "4                   0       0         0       0               na    senior  "
      ]
     },
     "execution_count": 57,
     "metadata": {},
     "output_type": "execute_result"
    }
   ],
   "source": [
    "data = pd.read_csv('jobs_final.csv')\n",
    "data.head()"
   ]
  },
  {
   "cell_type": "code",
   "execution_count": 58,
   "id": "e05ecaaf",
   "metadata": {},
   "outputs": [
    {
     "data": {
      "text/plain": [
       "Index(['job_title', 'Company', 'working_place', 'website', 'posted_time',\n",
       "       'working_type', 'job_description', 'big_data', 'analysis',\n",
       "       'data_visualization', 'Hadoop', 'Database', 'Apache',\n",
       "       'simple_job_title', 'job_level'],\n",
       "      dtype='object')"
      ]
     },
     "execution_count": 58,
     "metadata": {},
     "output_type": "execute_result"
    }
   ],
   "source": [
    "data.columns"
   ]
  },
  {
   "cell_type": "code",
   "execution_count": 144,
   "id": "bca1cd4b",
   "metadata": {},
   "outputs": [
    {
     "data": {
      "text/plain": [
       "<AxesSubplot:xlabel='analysis'>"
      ]
     },
     "execution_count": 144,
     "metadata": {},
     "output_type": "execute_result"
    },
    {
     "data": {
      "image/png": "[encoded data removed]",
      "text/plain": [
       "<Figure size 432x288 with 1 Axes>"
      ]
     },
     "metadata": {
      "needs_background": "light"
     },
     "output_type": "display_data"
    }
   ],
   "source": [
    "data[['big_data', 'analysis',\n",
    "       'data_visualization', 'Hadoop', 'Database', 'Apache']].plot(x='analysis', kind='bar')\n",
    "#df[[\"X\", \"A\", \"B\", \"C\"]].plot(x=\"X\", kind=\"bar\")"
   ]
  },
  {
   "cell_type": "code",
   "execution_count": 150,
   "id": "326d9699",
   "metadata": {},
   "outputs": [
    {
     "data": {
      "text/plain": [
       "<AxesSubplot:xlabel='data_visualization'>"
      ]
     },
     "execution_count": 150,
     "metadata": {},
     "output_type": "execute_result"
    },
    {
     "data": {
      "image/png": "[encoded data removed]",
      "text/plain": [
       "<Figure size 432x288 with 1 Axes>"
      ]
     },
     "metadata": {
      "needs_background": "light"
     },
     "output_type": "display_data"
    }
   ],
   "source": [
    "data.plot(x='data_visualization', y=['big_data', 'analysis','Hadoop', 'Database', 'Apache'], kind=\"bar\")"
   ]
  },
  {
   "cell_type": "code",
   "execution_count": 96,
   "id": "fe3182b0",
   "metadata": {},
   "outputs": [
    {
     "name": "stdout",
     "output_type": "stream",
     "text": [
      "the graph for big_data: total = 2\n"
     ]
    },
    {
     "data": {
      "image/png": "[encoded data removed]",
      "text/plain": [
       "<Figure size 432x288 with 1 Axes>"
      ]
     },
     "metadata": {
      "needs_background": "light"
     },
     "output_type": "display_data"
    },
    {
     "name": "stdout",
     "output_type": "stream",
     "text": [
      "the graph for analysis: total = 2\n"
     ]
    },
    {
     "data": {
      "image/png": "[encoded data removed]",
      "text/plain": [
       "<Figure size 432x288 with 1 Axes>"
      ]
     },
     "metadata": {
      "needs_background": "light"
     },
     "output_type": "display_data"
    },
    {
     "name": "stdout",
     "output_type": "stream",
     "text": [
      "the graph for data_visualization: total = 2\n"
     ]
    },
    {
     "data": {
      "image/png": "[encoded data removed]",
      "text/plain": [
       "<Figure size 432x288 with 1 Axes>"
      ]
     },
     "metadata": {
      "needs_background": "light"
     },
     "output_type": "display_data"
    },
    {
     "name": "stdout",
     "output_type": "stream",
     "text": [
      "the graph for Hadoop: total = 2\n"
     ]
    },
    {
     "data": {
      "image/png": "[encoded data removed]",
      "text/plain": [
       "<Figure size 432x288 with 1 Axes>"
      ]
     },
     "metadata": {
      "needs_background": "light"
     },
     "output_type": "display_data"
    },
    {
     "name": "stdout",
     "output_type": "stream",
     "text": [
      "the graph for Database: total = 2\n"
     ]
    },
    {
     "data": {
      "image/png": "[encoded data removed]",
      "text/plain": [
       "<Figure size 432x288 with 1 Axes>"
      ]
     },
     "metadata": {
      "needs_background": "light"
     },
     "output_type": "display_data"
    },
    {
     "name": "stdout",
     "output_type": "stream",
     "text": [
      "the graph for Apache: total = 2\n"
     ]
    },
    {
     "data": {
      "image/png": "[encoded data removed]",
      "text/plain": [
       "<Figure size 432x288 with 1 Axes>"
      ]
     },
     "metadata": {
      "needs_background": "light"
     },
     "output_type": "display_data"
    }
   ],
   "source": [
    "for i in skills:\n",
    "    cat_num = skills[i].value_counts()\n",
    "    print('the graph for %s: total = %d' %(i,len(cat_num)))\n",
    "    chart = sns.barplot(x=cat_num.index,y=cat_num)\n",
    "    chart.set_xticklabels(chart.get_xticklabels(), rotation=90)\n",
    "    plt.show()"
   ]
  }
 ],
 "metadata": {
  "kernelspec": {
   "display_name": "Python 3 (ipykernel)",
   "language": "python",
   "name": "python3"
  },
  "language_info": {
   "codemirror_mode": {
    "name": "ipython",
    "version": 3
   },
   "file_extension": ".py",
   "mimetype": "text/x-python",
   "name": "python",
   "nbconvert_exporter": "python",
   "pygments_lexer": "ipython3",
   "version": "3.8.8"
  }
 },
 "nbformat": 4,
 "nbformat_minor": 5
}
